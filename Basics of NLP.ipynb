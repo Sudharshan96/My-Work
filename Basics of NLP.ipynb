{
 "cells": [
  {
   "cell_type": "markdown",
   "metadata": {},
   "source": [
    "# Basics of NLP"
   ]
  },
  {
   "cell_type": "markdown",
   "metadata": {},
   "source": [
    "# 1. Importing the packages"
   ]
  },
  {
   "cell_type": "code",
   "execution_count": 5,
   "metadata": {},
   "outputs": [],
   "source": [
    "# importing the package\n",
    "import speech_recognition as sr"
   ]
  },
  {
   "cell_type": "markdown",
   "metadata": {},
   "source": [
    "# 2. Creating Speech Recognizer and converting recorded speech to text"
   ]
  },
  {
   "cell_type": "code",
   "execution_count": 25,
   "metadata": {},
   "outputs": [],
   "source": [
    "# Creating Speech Recognizer using Microphone and recording audio \n",
    "r = sr.Recognizer()\n",
    "with sr.Microphone(1) as source:\n",
    "    audio = r.listen(source,phrase_time_limit=10)"
   ]
  },
  {
   "cell_type": "code",
   "execution_count": 27,
   "metadata": {},
   "outputs": [
    {
     "name": "stdout",
     "output_type": "stream",
     "text": [
      "All Angels from above hear my prayers so that victory be my side\n"
     ]
    }
   ],
   "source": [
    "# Converting the audio to text\n",
    "text = r.recognize_google(audio)\n",
    "print(text)"
   ]
  },
  {
   "cell_type": "markdown",
   "metadata": {},
   "source": [
    "# 3. In the below sentence extracting only the mobile numbers using Regular Expression"
   ]
  },
  {
   "cell_type": "markdown",
   "metadata": {},
   "source": [
    "'Hello Jack,nice meeting with you.Lets be in touch please note down this mobile number which is 8741256412.If this number not working will give you another alternate number being 7845612394'"
   ]
  },
  {
   "cell_type": "code",
   "execution_count": 29,
   "metadata": {},
   "outputs": [],
   "source": [
    "# Saving the sentence in a variable\n",
    "sent = 'Hello Jack,nice meeting with you.Lets be in touch please note down this mobile number which is 8741256412.If this number not working will give you another alternate number being 7845612394'"
   ]
  },
  {
   "cell_type": "code",
   "execution_count": 30,
   "metadata": {},
   "outputs": [
    {
     "data": {
      "text/plain": [
       "['8741256412', '7845612394']"
      ]
     },
     "execution_count": 30,
     "metadata": {},
     "output_type": "execute_result"
    }
   ],
   "source": [
    "# Getting the mobile nos using Regular Expression\n",
    "import re\n",
    "re.findall('[0-9]{10}',sent)"
   ]
  },
  {
   "cell_type": "markdown",
   "metadata": {},
   "source": [
    "# 4.Now hiding the mobile nos with stars and printing the sentence"
   ]
  },
  {
   "cell_type": "code",
   "execution_count": 31,
   "metadata": {},
   "outputs": [
    {
     "data": {
      "text/plain": [
       "'Hello Jack,nice meeting with you.Lets be in touch please note down this mobile number which is ******.If this number not working will give you another alternate number being ******'"
      ]
     },
     "execution_count": 31,
     "metadata": {},
     "output_type": "execute_result"
    }
   ],
   "source": [
    "# Using Regular Expression hiding the mobile nos\n",
    "re.sub('[0-9]{10}','******',sent)"
   ]
  },
  {
   "cell_type": "markdown",
   "metadata": {},
   "source": [
    "# 5. In the below sentence extracting the mail ID,phone number,date"
   ]
  },
  {
   "cell_type": "markdown",
   "metadata": {},
   "source": [
    "Hey Mark,please create a GMAIL account for me.Keep my mail ID as stephen.king_1407@gmail.com and password as stephen_king666.My mobile number is 555-777-122 and date of birth is 13/12/1989."
   ]
  },
  {
   "cell_type": "code",
   "execution_count": 79,
   "metadata": {},
   "outputs": [],
   "source": [
    "# Saving the sentence in a variable\n",
    "sent2 = 'Hey Mark,please create a GMAIL account for me.Keep my mailID as stephen.king-1407@gmail.com and password as stephen_king666.My mobile number is 555-777-122 and date of birth is 13/12/1989.'"
   ]
  },
  {
   "cell_type": "code",
   "execution_count": 80,
   "metadata": {},
   "outputs": [
    {
     "data": {
      "text/plain": [
       "['stephen.king-1407@gmail.com']"
      ]
     },
     "execution_count": 80,
     "metadata": {},
     "output_type": "execute_result"
    }
   ],
   "source": [
    "# Extracting the mail ID\n",
    "pattern = '[0-9a-zA-Z.-]+@[0-9a-zA-Z.-]+'\n",
    "re.findall(pattern,sent2)"
   ]
  },
  {
   "cell_type": "code",
   "execution_count": 94,
   "metadata": {},
   "outputs": [
    {
     "data": {
      "text/plain": [
       "['stephen_king666']"
      ]
     },
     "execution_count": 94,
     "metadata": {},
     "output_type": "execute_result"
    }
   ],
   "source": [
    "# Extracting the password\n",
    "pattern1 = '[0-9a-z]+_[0-9a-z]+'\n",
    "re.findall(pattern1,sent2)"
   ]
  },
  {
   "cell_type": "code",
   "execution_count": 97,
   "metadata": {},
   "outputs": [
    {
     "data": {
      "text/plain": [
       "['555-777-122']"
      ]
     },
     "execution_count": 97,
     "metadata": {},
     "output_type": "execute_result"
    }
   ],
   "source": [
    "# Extracting the mobile number\n",
    "pattern2 = '[0-9-]{11}'\n",
    "re.findall(pattern2,sent2)"
   ]
  },
  {
   "cell_type": "code",
   "execution_count": 102,
   "metadata": {},
   "outputs": [
    {
     "data": {
      "text/plain": [
       "['13/12/1989']"
      ]
     },
     "execution_count": 102,
     "metadata": {},
     "output_type": "execute_result"
    }
   ],
   "source": [
    "# Extracting the date\n",
    "pattern3 = '[0-9]{1,2}/[0-9]{1,2}/[0-9]{4}'\n",
    "re.findall(pattern3,sent2)"
   ]
  },
  {
   "cell_type": "markdown",
   "metadata": {},
   "source": [
    "# 6. Hiding the password from the sentence"
   ]
  },
  {
   "cell_type": "code",
   "execution_count": 103,
   "metadata": {},
   "outputs": [
    {
     "data": {
      "text/plain": [
       "'Hey Mark,please create a GMAIL account for me.Keep my mailID as stephen.king-1407@gmail.com and password as .My mobile number is 555-777-122 and date of birth is 13/12/1989.'"
      ]
     },
     "execution_count": 103,
     "metadata": {},
     "output_type": "execute_result"
    }
   ],
   "source": [
    "# Hiding the password\n",
    "re.sub(pattern1,\"\",sent2)"
   ]
  }
 ],
 "metadata": {
  "kernelspec": {
   "display_name": "Python 3",
   "language": "python",
   "name": "python3"
  },
  "language_info": {
   "codemirror_mode": {
    "name": "ipython",
    "version": 3
   },
   "file_extension": ".py",
   "mimetype": "text/x-python",
   "name": "python",
   "nbconvert_exporter": "python",
   "pygments_lexer": "ipython3",
   "version": "3.7.3"
  }
 },
 "nbformat": 4,
 "nbformat_minor": 2
}
