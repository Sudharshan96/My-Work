{
 "cells": [
  {
   "cell_type": "markdown",
   "metadata": {},
   "source": [
    "<img height=\"60\" width=\"120\" src=\"https://shwetkm.github.io/upxlogo.png\"></img>\n",
    "# Machine Learning Projects\n",
    "# Customer Segmentation"
   ]
  },
  {
   "cell_type": "markdown",
   "metadata": {},
   "source": [
    "### Table of Contents\n",
    "\n",
    "1. [Dataset Description](#customer)\n",
    "2. [Importing the packages and dataset](#packages)\n",
    "3. [Exploring the dataset](#explore)\n",
    "4. [Checking for null values](#null)\n",
    "5. [Data Visualizations](#dv)\n",
    "6. [Scaling](#s)\n",
    "7. [K Means Clustering](#kmeans)\n",
    "     - 7.1 [Finding optimum clusters for K Means](#oc)\n",
    "     - 7.2 [Fitting the K Means model after finding clusters](#knnmodel)\n",
    "     - 7.3 [Clusters output](#co)\n",
    "     - 7.4 [Cluster centroid plot](#ccp)\n",
    "8. [Joining the clusters into dataset as Customer Group](#cg)"
   ]
  },
  {
   "cell_type": "markdown",
   "metadata": {},
   "source": [
    "## Supermarket dataset"
   ]
  },
  {
   "cell_type": "markdown",
   "metadata": {},
   "source": [
    "### 1. Dataset Description  <a id='customer'>\n",
    "**Objective**\n",
    "The objective is to Cluster customers into different segments or groups based on the attributes given using clustering algorithms.\n",
    "\n",
    "**Column Descriptions**\n",
    "\n",
    "1. Customer_ID – id of customer\n",
    "\n",
    "2. AVG_Actual_price_12 – MRP\n",
    "\n",
    "3. Purchase_Value – Total amount of purchase customer has made\n",
    "\n",
    "4. No_of_Items – Number of items bought\n",
    "\n",
    "5. Total_Discount- Discount availed by each customer\n",
    "\n",
    "6. MONTH_SINCE_LAST_TRANSACTION – Last month of visit in supermarket"
   ]
  },
  {
   "cell_type": "markdown",
   "metadata": {},
   "source": [
    "### 2. Importing the packages and dataset  <a id='packages'>"
   ]
  },
  {
   "cell_type": "code",
   "execution_count": 1,
   "metadata": {},
   "outputs": [],
   "source": [
    "# Importing the libraries\n",
    "import numpy as np\n",
    "import pandas as pd\n",
    "import matplotlib.pyplot as plt\n",
    "import seaborn as sns"
   ]
  },
  {
   "cell_type": "code",
   "execution_count": 2,
   "metadata": {},
   "outputs": [],
   "source": [
    "# Reading the CSV file\n",
    "supermarket = pd.read_csv('Supermarket Purchase.csv')"
   ]
  },
  {
   "cell_type": "markdown",
   "metadata": {},
   "source": [
    "### 3. Exploring the dataset  <a id='explore'>"
   ]
  },
  {
   "cell_type": "code",
   "execution_count": 3,
   "metadata": {},
   "outputs": [
    {
     "data": {
      "text/html": [
       "<div>\n",
       "<style scoped>\n",
       "    .dataframe tbody tr th:only-of-type {\n",
       "        vertical-align: middle;\n",
       "    }\n",
       "\n",
       "    .dataframe tbody tr th {\n",
       "        vertical-align: top;\n",
       "    }\n",
       "\n",
       "    .dataframe thead th {\n",
       "        text-align: right;\n",
       "    }\n",
       "</style>\n",
       "<table border=\"1\" class=\"dataframe\">\n",
       "  <thead>\n",
       "    <tr style=\"text-align: right;\">\n",
       "      <th></th>\n",
       "      <th>Cust_id</th>\n",
       "      <th>AVG_Actual_price_12</th>\n",
       "      <th>Purchase_Value</th>\n",
       "      <th>No_of_Items</th>\n",
       "      <th>Total_Discount</th>\n",
       "      <th>MONTH_SINCE_LAST_TRANSACTION</th>\n",
       "    </tr>\n",
       "  </thead>\n",
       "  <tbody>\n",
       "    <tr>\n",
       "      <th>0</th>\n",
       "      <td>1</td>\n",
       "      <td>300.000000</td>\n",
       "      <td>1200.00</td>\n",
       "      <td>4</td>\n",
       "      <td>0.00</td>\n",
       "      <td>11</td>\n",
       "    </tr>\n",
       "    <tr>\n",
       "      <th>1</th>\n",
       "      <td>2</td>\n",
       "      <td>2563.282500</td>\n",
       "      <td>41012.52</td>\n",
       "      <td>16</td>\n",
       "      <td>78737.48</td>\n",
       "      <td>2</td>\n",
       "    </tr>\n",
       "    <tr>\n",
       "      <th>2</th>\n",
       "      <td>4</td>\n",
       "      <td>3510.000000</td>\n",
       "      <td>7020.00</td>\n",
       "      <td>2</td>\n",
       "      <td>780.00</td>\n",
       "      <td>4</td>\n",
       "    </tr>\n",
       "    <tr>\n",
       "      <th>3</th>\n",
       "      <td>8</td>\n",
       "      <td>4530.000000</td>\n",
       "      <td>13590.00</td>\n",
       "      <td>3</td>\n",
       "      <td>1510.00</td>\n",
       "      <td>1</td>\n",
       "    </tr>\n",
       "    <tr>\n",
       "      <th>4</th>\n",
       "      <td>9</td>\n",
       "      <td>2428.076923</td>\n",
       "      <td>33455.00</td>\n",
       "      <td>15</td>\n",
       "      <td>17445.00</td>\n",
       "      <td>6</td>\n",
       "    </tr>\n",
       "  </tbody>\n",
       "</table>\n",
       "</div>"
      ],
      "text/plain": [
       "   Cust_id  AVG_Actual_price_12  Purchase_Value  No_of_Items  Total_Discount  \\\n",
       "0        1           300.000000         1200.00            4            0.00   \n",
       "1        2          2563.282500        41012.52           16        78737.48   \n",
       "2        4          3510.000000         7020.00            2          780.00   \n",
       "3        8          4530.000000        13590.00            3         1510.00   \n",
       "4        9          2428.076923        33455.00           15        17445.00   \n",
       "\n",
       "   MONTH_SINCE_LAST_TRANSACTION  \n",
       "0                            11  \n",
       "1                             2  \n",
       "2                             4  \n",
       "3                             1  \n",
       "4                             6  "
      ]
     },
     "execution_count": 3,
     "metadata": {},
     "output_type": "execute_result"
    }
   ],
   "source": [
    "# Getting the head of the dataset\n",
    "supermarket.head()"
   ]
  },
  {
   "cell_type": "code",
   "execution_count": 4,
   "metadata": {},
   "outputs": [
    {
     "data": {
      "text/plain": [
       "(702, 6)"
      ]
     },
     "execution_count": 4,
     "metadata": {},
     "output_type": "execute_result"
    }
   ],
   "source": [
    "# Getting the shape of the dataset\n",
    "supermarket.shape"
   ]
  },
  {
   "cell_type": "code",
   "execution_count": 5,
   "metadata": {},
   "outputs": [
    {
     "name": "stdout",
     "output_type": "stream",
     "text": [
      "<class 'pandas.core.frame.DataFrame'>\n",
      "RangeIndex: 702 entries, 0 to 701\n",
      "Data columns (total 6 columns):\n",
      "Cust_id                         702 non-null int64\n",
      "AVG_Actual_price_12             702 non-null float64\n",
      "Purchase_Value                  702 non-null float64\n",
      "No_of_Items                     702 non-null int64\n",
      "Total_Discount                  702 non-null float64\n",
      "MONTH_SINCE_LAST_TRANSACTION    702 non-null int64\n",
      "dtypes: float64(3), int64(3)\n",
      "memory usage: 33.0 KB\n"
     ]
    }
   ],
   "source": [
    "# Getting the info of the dataset\n",
    "supermarket.info()"
   ]
  },
  {
   "cell_type": "markdown",
   "metadata": {},
   "source": [
    "**Descriptive Statistics**"
   ]
  },
  {
   "cell_type": "code",
   "execution_count": 6,
   "metadata": {},
   "outputs": [
    {
     "data": {
      "text/html": [
       "<div>\n",
       "<style scoped>\n",
       "    .dataframe tbody tr th:only-of-type {\n",
       "        vertical-align: middle;\n",
       "    }\n",
       "\n",
       "    .dataframe tbody tr th {\n",
       "        vertical-align: top;\n",
       "    }\n",
       "\n",
       "    .dataframe thead th {\n",
       "        text-align: right;\n",
       "    }\n",
       "</style>\n",
       "<table border=\"1\" class=\"dataframe\">\n",
       "  <thead>\n",
       "    <tr style=\"text-align: right;\">\n",
       "      <th></th>\n",
       "      <th>Cust_id</th>\n",
       "      <th>AVG_Actual_price_12</th>\n",
       "      <th>Purchase_Value</th>\n",
       "      <th>No_of_Items</th>\n",
       "      <th>Total_Discount</th>\n",
       "      <th>MONTH_SINCE_LAST_TRANSACTION</th>\n",
       "    </tr>\n",
       "  </thead>\n",
       "  <tbody>\n",
       "    <tr>\n",
       "      <th>count</th>\n",
       "      <td>702.000000</td>\n",
       "      <td>702.000000</td>\n",
       "      <td>702.000000</td>\n",
       "      <td>702.000000</td>\n",
       "      <td>702.000000</td>\n",
       "      <td>702.000000</td>\n",
       "    </tr>\n",
       "    <tr>\n",
       "      <th>mean</th>\n",
       "      <td>501.414530</td>\n",
       "      <td>2642.877917</td>\n",
       "      <td>19820.633305</td>\n",
       "      <td>10.720798</td>\n",
       "      <td>20806.339088</td>\n",
       "      <td>5.029915</td>\n",
       "    </tr>\n",
       "    <tr>\n",
       "      <th>std</th>\n",
       "      <td>295.756706</td>\n",
       "      <td>1879.138285</td>\n",
       "      <td>34639.752609</td>\n",
       "      <td>20.038311</td>\n",
       "      <td>58427.798572</td>\n",
       "      <td>3.562840</td>\n",
       "    </tr>\n",
       "    <tr>\n",
       "      <th>min</th>\n",
       "      <td>1.000000</td>\n",
       "      <td>22.500000</td>\n",
       "      <td>45.000000</td>\n",
       "      <td>1.000000</td>\n",
       "      <td>-3962.480000</td>\n",
       "      <td>1.000000</td>\n",
       "    </tr>\n",
       "    <tr>\n",
       "      <th>25%</th>\n",
       "      <td>245.750000</td>\n",
       "      <td>1238.750000</td>\n",
       "      <td>4200.000000</td>\n",
       "      <td>2.000000</td>\n",
       "      <td>0.000000</td>\n",
       "      <td>2.000000</td>\n",
       "    </tr>\n",
       "    <tr>\n",
       "      <th>50%</th>\n",
       "      <td>486.500000</td>\n",
       "      <td>2100.000000</td>\n",
       "      <td>8660.000000</td>\n",
       "      <td>4.000000</td>\n",
       "      <td>2599.250000</td>\n",
       "      <td>4.000000</td>\n",
       "    </tr>\n",
       "    <tr>\n",
       "      <th>75%</th>\n",
       "      <td>763.750000</td>\n",
       "      <td>3700.000000</td>\n",
       "      <td>21197.000000</td>\n",
       "      <td>10.000000</td>\n",
       "      <td>17433.750000</td>\n",
       "      <td>8.000000</td>\n",
       "    </tr>\n",
       "    <tr>\n",
       "      <th>max</th>\n",
       "      <td>1006.000000</td>\n",
       "      <td>10000.000000</td>\n",
       "      <td>302721.740000</td>\n",
       "      <td>172.000000</td>\n",
       "      <td>734349.820000</td>\n",
       "      <td>12.000000</td>\n",
       "    </tr>\n",
       "  </tbody>\n",
       "</table>\n",
       "</div>"
      ],
      "text/plain": [
       "           Cust_id  AVG_Actual_price_12  Purchase_Value  No_of_Items  \\\n",
       "count   702.000000           702.000000      702.000000   702.000000   \n",
       "mean    501.414530          2642.877917    19820.633305    10.720798   \n",
       "std     295.756706          1879.138285    34639.752609    20.038311   \n",
       "min       1.000000            22.500000       45.000000     1.000000   \n",
       "25%     245.750000          1238.750000     4200.000000     2.000000   \n",
       "50%     486.500000          2100.000000     8660.000000     4.000000   \n",
       "75%     763.750000          3700.000000    21197.000000    10.000000   \n",
       "max    1006.000000         10000.000000   302721.740000   172.000000   \n",
       "\n",
       "       Total_Discount  MONTH_SINCE_LAST_TRANSACTION  \n",
       "count      702.000000                    702.000000  \n",
       "mean     20806.339088                      5.029915  \n",
       "std      58427.798572                      3.562840  \n",
       "min      -3962.480000                      1.000000  \n",
       "25%          0.000000                      2.000000  \n",
       "50%       2599.250000                      4.000000  \n",
       "75%      17433.750000                      8.000000  \n",
       "max     734349.820000                     12.000000  "
      ]
     },
     "execution_count": 6,
     "metadata": {},
     "output_type": "execute_result"
    }
   ],
   "source": [
    "supermarket.describe()"
   ]
  },
  {
   "cell_type": "markdown",
   "metadata": {},
   "source": [
    "**As the range of max-min is different for each column so we should scale the dataset before moving to the cluster analysis**"
   ]
  },
  {
   "cell_type": "code",
   "execution_count": 7,
   "metadata": {},
   "outputs": [
    {
     "data": {
      "text/plain": [
       "1     152\n",
       "2      86\n",
       "3      63\n",
       "5      62\n",
       "4      62\n",
       "7      54\n",
       "11     48\n",
       "6      43\n",
       "8      40\n",
       "12     38\n",
       "10     34\n",
       "9      20\n",
       "Name: MONTH_SINCE_LAST_TRANSACTION, dtype: int64"
      ]
     },
     "execution_count": 7,
     "metadata": {},
     "output_type": "execute_result"
    }
   ],
   "source": [
    "# Value counts for MONTH_SINCE_LAST_TRANSACTION column\n",
    "supermarket['MONTH_SINCE_LAST_TRANSACTION'].value_counts()"
   ]
  },
  {
   "cell_type": "markdown",
   "metadata": {},
   "source": [
    "### 4. Checking for null values  <a id='null'>"
   ]
  },
  {
   "cell_type": "code",
   "execution_count": 8,
   "metadata": {},
   "outputs": [
    {
     "data": {
      "text/plain": [
       "Cust_id                         0\n",
       "AVG_Actual_price_12             0\n",
       "Purchase_Value                  0\n",
       "No_of_Items                     0\n",
       "Total_Discount                  0\n",
       "MONTH_SINCE_LAST_TRANSACTION    0\n",
       "dtype: int64"
      ]
     },
     "execution_count": 8,
     "metadata": {},
     "output_type": "execute_result"
    }
   ],
   "source": [
    "supermarket.isnull().sum()"
   ]
  },
  {
   "cell_type": "markdown",
   "metadata": {},
   "source": [
    "**We could there no null values present in the dataset**"
   ]
  },
  {
   "cell_type": "markdown",
   "metadata": {},
   "source": [
    "### 5. Data Visualizations<a id='dv'>"
   ]
  },
  {
   "cell_type": "code",
   "execution_count": 12,
   "metadata": {},
   "outputs": [
    {
     "data": {
      "text/plain": [
       "<matplotlib.axes._subplots.AxesSubplot at 0x16b685bdf60>"
      ]
     },
     "execution_count": 12,
     "metadata": {},
     "output_type": "execute_result"
    },
    {
     "data": {
      "image/png": "[encoded data removed]",
      "text/plain": [
       "<Figure size 432x288 with 1 Axes>"
      ]
     },
     "metadata": {
      "needs_background": "light"
     },
     "output_type": "display_data"
    }
   ],
   "source": [
    "# Countplot for MONTH_SINCE_LAST_TRANSACTION\n",
    "sns.countplot(x=supermarket['MONTH_SINCE_LAST_TRANSACTION'])"
   ]
  },
  {
   "cell_type": "markdown",
   "metadata": {},
   "source": [
    "**We could see that for most of the customers there is maximum one month delay and they might have continued their purchase after this time period**"
   ]
  },
  {
   "cell_type": "code",
   "execution_count": 35,
   "metadata": {},
   "outputs": [
    {
     "data": {
      "text/plain": [
       "<matplotlib.axes._subplots.AxesSubplot at 0x16b782e3b00>"
      ]
     },
     "execution_count": 35,
     "metadata": {},
     "output_type": "execute_result"
    },
    {
     "data": {
      "image/png": "[encoded data removed]",
      "text/plain": [
       "<Figure size 432x288 with 1 Axes>"
      ]
     },
     "metadata": {
      "needs_background": "light"
     },
     "output_type": "display_data"
    }
   ],
   "source": [
    "# Barplot for MONTH_SINCE_LAST_TRANSACTION VS No_of_Items\n",
    "sns.barplot(x='MONTH_SINCE_LAST_TRANSACTION',y='No_of_Items',data=supermarket.head(100))"
   ]
  },
  {
   "cell_type": "markdown",
   "metadata": {},
   "source": [
    "**We could see the customers who had one month lag bought more items compared to other lag customers so we could say that the no of items influence the customers but lets find out for what reason the customers bought so many items**"
   ]
  },
  {
   "cell_type": "code",
   "execution_count": 37,
   "metadata": {},
   "outputs": [
    {
     "data": {
      "text/plain": [
       "<matplotlib.axes._subplots.AxesSubplot at 0x16b782d69e8>"
      ]
     },
     "execution_count": 37,
     "metadata": {},
     "output_type": "execute_result"
    },
    {
     "data": {
      "image/png": "[encoded data removed]",
      "text/plain": [
       "<Figure size 432x288 with 1 Axes>"
      ]
     },
     "metadata": {
      "needs_background": "light"
     },
     "output_type": "display_data"
    }
   ],
   "source": [
    "# Scatter plot for No_of_Items vs Purchase Value\n",
    "sns.scatterplot(x='No_of_Items',y='Purchase_Value',data=supermarket)"
   ]
  },
  {
   "cell_type": "markdown",
   "metadata": {},
   "source": [
    "**We could see Purchase Value and No_of_Items have a positive linear relationship with each other so with increase in Purchase Value the No_of_Items increases**"
   ]
  },
  {
   "cell_type": "code",
   "execution_count": 30,
   "metadata": {},
   "outputs": [
    {
     "data": {
      "text/plain": [
       "<matplotlib.axes._subplots.AxesSubplot at 0x16b77075fd0>"
      ]
     },
     "execution_count": 30,
     "metadata": {},
     "output_type": "execute_result"
    },
    {
     "data": {
      "image/png": "[encoded data removed]",
      "text/plain": [
       "<Figure size 432x288 with 1 Axes>"
      ]
     },
     "metadata": {
      "needs_background": "light"
     },
     "output_type": "display_data"
    }
   ],
   "source": [
    "# Regression plot for No_of_Items vs Total Discount\n",
    "sns.regplot(x='No_of_Items',y='Total_Discount',data=supermarket)"
   ]
  },
  {
   "cell_type": "markdown",
   "metadata": {},
   "source": [
    "**We could see Total_Discount and No_of_Items are in a positive linear relationship which means when Total_Discount increases the No_of_Items also increases,so this is the reason for more Items to bought by customers**"
   ]
  },
  {
   "cell_type": "code",
   "execution_count": 31,
   "metadata": {},
   "outputs": [
    {
     "data": {
      "text/plain": [
       "<seaborn.axisgrid.FacetGrid at 0x16b770a8b38>"
      ]
     },
     "execution_count": 31,
     "metadata": {},
     "output_type": "execute_result"
    },
    {
     "data": {
      "image/png": "[encoded data removed]",
      "text/plain": [
       "<Figure size 360x360 with 1 Axes>"
      ]
     },
     "metadata": {
      "needs_background": "light"
     },
     "output_type": "display_data"
    }
   ],
   "source": [
    "# Linear Regression plot for No_of_Items vs Average price\n",
    "sns.lmplot(x='No_of_Items',y='AVG_Actual_price_12',data=supermarket)"
   ]
  },
  {
   "cell_type": "markdown",
   "metadata": {},
   "source": [
    "**We could find that with increase in No_of_Items the Average price is decreasing it may be due to the Discounts given to all the items**"
   ]
  },
  {
   "cell_type": "markdown",
   "metadata": {},
   "source": [
    "### 6. Scaling  <a id='s'>"
   ]
  },
  {
   "cell_type": "code",
   "execution_count": 76,
   "metadata": {},
   "outputs": [],
   "source": [
    "# Importing StandardScaler and scaling the dataset\n",
    "from sklearn.preprocessing import StandardScaler\n",
    "ss = StandardScaler()\n",
    "supermarket_scaled = ss.fit_transform(supermarket)"
   ]
  },
  {
   "cell_type": "markdown",
   "metadata": {},
   "source": [
    "### 7. K Means Clustering  <a id='kmeans'>"
   ]
  },
  {
   "cell_type": "markdown",
   "metadata": {},
   "source": [
    "### 7.1 Finding optimum clusters for K Means  <a id='oc'>"
   ]
  },
  {
   "cell_type": "code",
   "execution_count": 77,
   "metadata": {},
   "outputs": [],
   "source": [
    "# Using sum of squares method to find optimum no of clusters\n",
    "from sklearn.cluster import KMeans\n",
    "\n",
    "ssw=[]\n",
    "cluster_range=range(1,10)\n",
    "for i in cluster_range:\n",
    "    model=KMeans(n_clusters=i,init=\"k-means++\",n_init=10, max_iter=300, random_state=0)\n",
    "    model.fit(supermarket_scaled)\n",
    "    ssw.append(model.inertia_)"
   ]
  },
  {
   "cell_type": "code",
   "execution_count": 78,
   "metadata": {},
   "outputs": [
    {
     "name": "stdout",
     "output_type": "stream",
     "text": [
      "   no. of clusters          SSW\n",
      "0                1  4914.000000\n",
      "1                2  3616.570827\n",
      "2                3  2781.214750\n",
      "3                4  2269.349792\n",
      "4                5  1878.963166\n",
      "5                6  1556.594600\n",
      "6                7  1253.139434\n",
      "7                8  1182.740386\n",
      "8                9  1137.905266\n"
     ]
    }
   ],
   "source": [
    "# Dataframe of the clusters and ssw\n",
    "ssw_df=pd.DataFrame({\"no. of clusters\":cluster_range,\"SSW\":ssw})\n",
    "print(ssw_df)"
   ]
  },
  {
   "cell_type": "markdown",
   "metadata": {},
   "source": [
    "**Elbow Plot**"
   ]
  },
  {
   "cell_type": "code",
   "execution_count": 79,
   "metadata": {},
   "outputs": [
    {
     "data": {
      "image/png": "[encoded data removed]",
      "text/plain": [
       "<Figure size 864x504 with 1 Axes>"
      ]
     },
     "metadata": {
      "needs_background": "light"
     },
     "output_type": "display_data"
    }
   ],
   "source": [
    "# Elbow plot to find optimum no of clusters\n",
    "plt.figure(figsize=(12,7))\n",
    "plt.plot(cluster_range, ssw, marker = \"o\",color=\"cyan\")\n",
    "plt.xlabel(\"Number of clusters\")\n",
    "plt.ylabel(\"sum squared within\")\n",
    "plt.title(\"Elbow method to find optimal number of clusters\")\n",
    "plt.show()"
   ]
  },
  {
   "cell_type": "markdown",
   "metadata": {},
   "source": [
    "### 7.2 Fitting the K Means model after finding optimum clusters <a id='kmeansmodel'>"
   ]
  },
  {
   "cell_type": "code",
   "execution_count": 80,
   "metadata": {},
   "outputs": [],
   "source": [
    "# Fitting the model\n",
    "kmeans = KMeans(n_clusters = 7, init='k-means++', max_iter=300, n_init=10, random_state=0)\n",
    "# Fit the model\n",
    "k_model=kmeans.fit(supermarket_scaled)"
   ]
  },
  {
   "cell_type": "markdown",
   "metadata": {},
   "source": [
    "### 7.3 Clusters output   <a id='co'>"
   ]
  },
  {
   "cell_type": "code",
   "execution_count": 81,
   "metadata": {},
   "outputs": [
    {
     "data": {
      "text/plain": [
       "array([6, 2, 2, 2, 2, 6, 2, 2, 2, 6, 6, 2, 2, 1, 5, 2, 4, 2, 2, 2, 6, 6,\n",
       "       6, 1, 6, 2, 6, 1, 2, 2, 6, 6, 4, 5, 5, 2, 2, 2, 6, 6, 6, 1, 6, 2,\n",
       "       6, 2, 2, 6, 2, 6, 1, 2, 6, 2, 1, 2, 2, 5, 2, 6, 2, 5, 5, 5, 6, 6,\n",
       "       6, 4, 6, 2, 2, 2, 2, 2, 6, 6, 2, 5, 6, 6, 2, 6, 5, 1, 6, 2, 6, 6,\n",
       "       2, 2, 1, 1, 2, 6, 5, 2, 6, 5, 2, 6, 2, 1, 6, 2, 2, 5, 2, 6, 2, 2,\n",
       "       6, 2, 2, 2, 2, 1, 6, 6, 6, 6, 1, 2, 6, 2, 5, 2, 6, 2, 6, 6, 6, 2,\n",
       "       2, 2, 2, 2, 6, 5, 2, 2, 5, 6, 2, 5, 6, 2, 6, 2, 6, 6, 2, 6, 2, 2,\n",
       "       6, 6, 6, 6, 6, 5, 2, 2, 6, 1, 5, 6, 2, 2, 5, 2, 6, 2, 5, 2, 2, 2,\n",
       "       2, 2, 2, 6, 6, 2, 5, 6, 2, 5, 6, 2, 5, 6, 5, 6, 6, 6, 2, 2, 2, 6,\n",
       "       2, 1, 2, 2, 2, 6, 6, 1, 2, 6, 6, 2, 2, 6, 5, 2, 2, 6, 2, 6, 2, 2,\n",
       "       2, 6, 2, 6, 2, 2, 1, 6, 6, 5, 2, 2, 5, 5, 2, 5, 6, 2, 2, 6, 2, 5,\n",
       "       6, 2, 6, 2, 2, 2, 6, 5, 2, 5, 6, 2, 1, 6, 6, 6, 2, 5, 6, 2, 2, 2,\n",
       "       6, 2, 6, 4, 2, 6, 6, 6, 6, 2, 4, 4, 1, 6, 6, 2, 6, 6, 2, 6, 2, 6,\n",
       "       6, 6, 4, 2, 2, 2, 2, 5, 6, 2, 6, 2, 2, 2, 1, 1, 2, 5, 2, 5, 2, 6,\n",
       "       6, 6, 5, 6, 6, 2, 2, 6, 2, 6, 6, 2, 2, 2, 2, 6, 6, 5, 6, 4, 2, 6,\n",
       "       1, 6, 6, 2, 5, 6, 1, 2, 1, 2, 2, 5, 5, 2, 6, 0, 5, 1, 6, 2, 5, 2,\n",
       "       2, 2, 5, 5, 5, 2, 2, 2, 6, 2, 2, 5, 6, 0, 5, 3, 6, 1, 5, 0, 3, 2,\n",
       "       2, 0, 2, 0, 0, 0, 1, 1, 3, 2, 5, 3, 3, 0, 3, 3, 5, 5, 0, 5, 3, 3,\n",
       "       3, 0, 0, 0, 5, 0, 3, 1, 0, 3, 0, 0, 0, 3, 3, 5, 0, 0, 5, 1, 3, 3,\n",
       "       1, 5, 0, 5, 0, 3, 3, 5, 5, 0, 0, 0, 0, 0, 3, 0, 5, 0, 0, 3, 3, 3,\n",
       "       3, 0, 0, 0, 3, 5, 3, 4, 3, 3, 3, 3, 5, 0, 5, 0, 0, 0, 5, 3, 3, 5,\n",
       "       3, 0, 3, 0, 0, 0, 0, 3, 3, 0, 3, 0, 5, 1, 3, 3, 0, 0, 5, 0, 5, 3,\n",
       "       4, 0, 5, 3, 3, 3, 0, 0, 5, 3, 0, 5, 1, 4, 5, 3, 0, 3, 3, 5, 3, 0,\n",
       "       0, 0, 1, 3, 5, 0, 0, 3, 3, 5, 3, 0, 1, 5, 5, 5, 5, 3, 3, 5, 3, 1,\n",
       "       3, 3, 5, 3, 1, 3, 0, 3, 5, 3, 5, 5, 5, 3, 3, 3, 3, 0, 0, 3, 3, 5,\n",
       "       3, 3, 3, 0, 3, 3, 3, 0, 0, 0, 0, 5, 3, 5, 3, 0, 0, 3, 3, 0, 0, 0,\n",
       "       3, 0, 3, 5, 0, 0, 3, 3, 3, 0, 3, 0, 0, 5, 5, 0, 0, 3, 3, 1, 0, 1,\n",
       "       0, 5, 0, 0, 3, 0, 3, 0, 3, 1, 3, 5, 3, 3, 3, 3, 3, 3, 5, 3, 5, 0,\n",
       "       3, 3, 3, 5, 0, 3, 3, 0, 0, 3, 5, 5, 3, 3, 3, 3, 3, 0, 3, 0, 3, 3,\n",
       "       3, 0, 1, 0, 1, 0, 3, 0, 0, 0, 0, 3, 3, 3, 1, 3, 3, 3, 3, 0, 3, 3,\n",
       "       3, 1, 0, 3, 3, 5, 0, 3, 3, 5, 0, 5, 3, 0, 3, 3, 3, 0, 0, 3, 0, 3,\n",
       "       3, 0, 0, 3, 0, 3, 3, 5, 1, 4, 3, 3, 3, 3, 3, 3, 3, 0, 0, 0])"
      ]
     },
     "execution_count": 81,
     "metadata": {},
     "output_type": "execute_result"
    }
   ],
   "source": [
    "## It returns the cluster vectors i.e. showing observations belonging which clusters \n",
    "clusters=k_model.labels_\n",
    "clusters"
   ]
  },
  {
   "cell_type": "markdown",
   "metadata": {},
   "source": [
    "### 7.4 Cluster centroid plot   <a id='ccp'>"
   ]
  },
  {
   "cell_type": "code",
   "execution_count": 85,
   "metadata": {},
   "outputs": [
    {
     "data": {
      "text/plain": [
       "<matplotlib.collections.PathCollection at 0x16b7d034400>"
      ]
     },
     "execution_count": 85,
     "metadata": {},
     "output_type": "execute_result"
    },
    {
     "data": {
      "image/png": "[encoded data removed]",
      "text/plain": [
       "<Figure size 432x288 with 1 Axes>"
      ]
     },
     "metadata": {
      "needs_background": "light"
     },
     "output_type": "display_data"
    }
   ],
   "source": [
    "# Predicting the values\n",
    "y_kmeans = kmeans.fit_predict(supermarket_scaled)\n",
    "\n",
    "#visualizing the clusters\n",
    "\n",
    "plt.scatter(supermarket_scaled[y_kmeans == 0, 0], supermarket_scaled[y_kmeans == 0, 1], s = 10, c = 'yellow')\n",
    "plt.scatter(supermarket_scaled[y_kmeans == 1, 0], supermarket_scaled[y_kmeans == 1, 1], s = 10, c = 'grey')\n",
    "plt.scatter(supermarket_scaled[y_kmeans == 2, 0], supermarket_scaled[y_kmeans == 2, 1], s = 10, c = 'pink')\n",
    "plt.scatter(supermarket_scaled[y_kmeans == 3, 0], supermarket_scaled[y_kmeans == 3, 1], s = 10, c = 'blue')\n",
    "plt.scatter(supermarket_scaled[y_kmeans == 4, 0], supermarket_scaled[y_kmeans == 4, 1], s = 10, c = 'black')\n",
    "plt.scatter(supermarket_scaled[y_kmeans == 5, 0], supermarket_scaled[y_kmeans == 5, 1], s = 10, c = 'violet')\n",
    "plt.scatter(supermarket_scaled[y_kmeans == 6, 0], supermarket_scaled[y_kmeans == 6, 1], s = 10, c = 'white')\n",
    "\n",
    "plt.scatter(kmeans.cluster_centers_[:,0],kmeans.cluster_centers_[:,1], s = 10, c = 'red', label = 'centroids')"
   ]
  },
  {
   "cell_type": "markdown",
   "metadata": {},
   "source": [
    "### 8. Joining clusters into the dataset as Customer Group <a id='cg'>"
   ]
  },
  {
   "cell_type": "code",
   "execution_count": 86,
   "metadata": {},
   "outputs": [],
   "source": [
    "# Converting the clusters into DataFrame\n",
    "clusters = pd.DataFrame(clusters)"
   ]
  },
  {
   "cell_type": "code",
   "execution_count": 92,
   "metadata": {},
   "outputs": [
    {
     "data": {
      "text/plain": [
       "2    162\n",
       "3    142\n",
       "6    128\n",
       "0    111\n",
       "5    103\n",
       "1     44\n",
       "4     12\n",
       "Name: 0, dtype: int64"
      ]
     },
     "execution_count": 92,
     "metadata": {},
     "output_type": "execute_result"
    }
   ],
   "source": [
    "# Output of clusters\n",
    "clusters[0].value_counts()"
   ]
  },
  {
   "cell_type": "code",
   "execution_count": 88,
   "metadata": {},
   "outputs": [],
   "source": [
    "# Joining the clusters into the supermarket dataset\n",
    "supermarket['Customer Group'] = clusters"
   ]
  },
  {
   "cell_type": "code",
   "execution_count": 89,
   "metadata": {},
   "outputs": [
    {
     "data": {
      "text/html": [
       "<div>\n",
       "<style scoped>\n",
       "    .dataframe tbody tr th:only-of-type {\n",
       "        vertical-align: middle;\n",
       "    }\n",
       "\n",
       "    .dataframe tbody tr th {\n",
       "        vertical-align: top;\n",
       "    }\n",
       "\n",
       "    .dataframe thead th {\n",
       "        text-align: right;\n",
       "    }\n",
       "</style>\n",
       "<table border=\"1\" class=\"dataframe\">\n",
       "  <thead>\n",
       "    <tr style=\"text-align: right;\">\n",
       "      <th></th>\n",
       "      <th>Cust_id</th>\n",
       "      <th>AVG_Actual_price_12</th>\n",
       "      <th>Purchase_Value</th>\n",
       "      <th>No_of_Items</th>\n",
       "      <th>Total_Discount</th>\n",
       "      <th>MONTH_SINCE_LAST_TRANSACTION</th>\n",
       "      <th>Customer Group</th>\n",
       "    </tr>\n",
       "  </thead>\n",
       "  <tbody>\n",
       "    <tr>\n",
       "      <th>0</th>\n",
       "      <td>1</td>\n",
       "      <td>300.000000</td>\n",
       "      <td>1200.00</td>\n",
       "      <td>4</td>\n",
       "      <td>0.00</td>\n",
       "      <td>11</td>\n",
       "      <td>6</td>\n",
       "    </tr>\n",
       "    <tr>\n",
       "      <th>1</th>\n",
       "      <td>2</td>\n",
       "      <td>2563.282500</td>\n",
       "      <td>41012.52</td>\n",
       "      <td>16</td>\n",
       "      <td>78737.48</td>\n",
       "      <td>2</td>\n",
       "      <td>2</td>\n",
       "    </tr>\n",
       "    <tr>\n",
       "      <th>2</th>\n",
       "      <td>4</td>\n",
       "      <td>3510.000000</td>\n",
       "      <td>7020.00</td>\n",
       "      <td>2</td>\n",
       "      <td>780.00</td>\n",
       "      <td>4</td>\n",
       "      <td>2</td>\n",
       "    </tr>\n",
       "    <tr>\n",
       "      <th>3</th>\n",
       "      <td>8</td>\n",
       "      <td>4530.000000</td>\n",
       "      <td>13590.00</td>\n",
       "      <td>3</td>\n",
       "      <td>1510.00</td>\n",
       "      <td>1</td>\n",
       "      <td>2</td>\n",
       "    </tr>\n",
       "    <tr>\n",
       "      <th>4</th>\n",
       "      <td>9</td>\n",
       "      <td>2428.076923</td>\n",
       "      <td>33455.00</td>\n",
       "      <td>15</td>\n",
       "      <td>17445.00</td>\n",
       "      <td>6</td>\n",
       "      <td>2</td>\n",
       "    </tr>\n",
       "  </tbody>\n",
       "</table>\n",
       "</div>"
      ],
      "text/plain": [
       "   Cust_id  AVG_Actual_price_12  Purchase_Value  No_of_Items  Total_Discount  \\\n",
       "0        1           300.000000         1200.00            4            0.00   \n",
       "1        2          2563.282500        41012.52           16        78737.48   \n",
       "2        4          3510.000000         7020.00            2          780.00   \n",
       "3        8          4530.000000        13590.00            3         1510.00   \n",
       "4        9          2428.076923        33455.00           15        17445.00   \n",
       "\n",
       "   MONTH_SINCE_LAST_TRANSACTION  Customer Group  \n",
       "0                            11               6  \n",
       "1                             2               2  \n",
       "2                             4               2  \n",
       "3                             1               2  \n",
       "4                             6               2  "
      ]
     },
     "execution_count": 89,
     "metadata": {},
     "output_type": "execute_result"
    }
   ],
   "source": [
    "# Getting the head of the dataset\n",
    "supermarket.head()"
   ]
  },
  {
   "cell_type": "code",
   "execution_count": 90,
   "metadata": {},
   "outputs": [
    {
     "data": {
      "text/plain": [
       "2    162\n",
       "3    142\n",
       "6    128\n",
       "0    111\n",
       "5    103\n",
       "1     44\n",
       "4     12\n",
       "Name: Customer Group, dtype: int64"
      ]
     },
     "execution_count": 90,
     "metadata": {},
     "output_type": "execute_result"
    }
   ],
   "source": [
    "# Value counts for the clusters\n",
    "supermarket['Customer Group'].value_counts()"
   ]
  }
 ],
 "metadata": {
  "kernelspec": {
   "display_name": "Python 3",
   "language": "python",
   "name": "python3"
  },
  "language_info": {
   "codemirror_mode": {
    "name": "ipython",
    "version": 3
   },
   "file_extension": ".py",
   "mimetype": "text/x-python",
   "name": "python",
   "nbconvert_exporter": "python",
   "pygments_lexer": "ipython3",
   "version": "3.7.3"
  }
 },
 "nbformat": 4,
 "nbformat_minor": 2
}
